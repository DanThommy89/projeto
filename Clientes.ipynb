{
 "cells": [
  {
   "cell_type": "markdown",
   "id": "e9e7bee8",
   "metadata": {},
   "source": [
    "# Análise de Dados com Python\n",
    "\n",
    "### Desafio:\n",
    "\n",
    "Você trabalha em uma empresa do varejo e tem milhares de clientes diferentes.\n",
    "\n",
    "Com o objetivo de aumentar o faturamento e o lucro da sua empresa, a diretoria quer conseguir identificar quem é o cliente ideal para seus produtos, baseado no histórico de compras dos clientes.\n",
    "\n",
    "Para isso, ela fez um trabalho de classificar os clientes com uma nota de 1 a 100. Só que agora, sobrou para você conseguir, a partir dessa nota, descobrir qual o perfil de cliente ideal da empresa.\n",
    "\n",
    "Qual a profissão? Qual a idade? Qual a faixa de renda? E todas as informações que você puder analisar para dizer qual o cliente ideal da empresa.\n",
    "\n",
    
   ]
  },
  {
   "cell_type": "code",
   "execution_count": null,
   "id": "3b79c8b2",
   "metadata": {},
   "outputs": [],
   "source": []
  }
 ],
 "metadata": {
  "kernelspec": {
   "display_name": "Python 3 (ipykernel)",
   "language": "python",
   "name": "python3"
  },
  "language_info": {
   "codemirror_mode": {
    "name": "ipython",
    "version": 3
   },
   "file_extension": ".py",
   "mimetype": "text/x-python",
   "name": "python",
   "nbconvert_exporter": "python",
   "pygments_lexer": "ipython3",
   "version": "3.9.13"
  }
 },
 "nbformat": 4,
 "nbformat_minor": 5
}

import pandas 

tabela = pandas.read_csv("clientes.csv", encoding="latin", sep=";")


# Tratando os Dados: 

# deletando coluna inútil'
tabela = tabela.drop("Unnamed: 8", axis=1)


# transformando a tabela Salário Anual em numérico
tabela["Salário Anual (R$)"] = pd.to_numeric(tabela ["Salário Anual (R$)"], errors ="coerce") 


#corrigir informações vazias 
tabela=tabela.dropna()
print(tabela.info())
display (tabela)

#analise inicial: Entendendo as notas dos 
display(tabela.describe())

import plotly.express as px

#criando um grafico relacionando a coluna Origem a nota do cliente
grafico=px.histogram(tabela, x ="Origem", y="Nota (1-100)", histfunc="avg",text_auto=True)
#exibindo o grafico
grafico.show()

#analise completa -> entendendo como cada característica do cliente impacta em sua nota

for coluna in tabela.columns:
    grafico=px.histogram(tabela, x =coluna, y="Nota (1-100)", histfunc="avg",text_auto=True, nbins=10)
    grafico.show()
    
 

