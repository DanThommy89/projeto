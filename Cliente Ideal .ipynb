{
 "cells": [
  {
   "cell_type": "markdown",
   "id": "e9e7bee8",
   "metadata": {},
   "source": [
    "# Análise de Dados com Python\n",
    "\n",
    "### Desafio:\n",
    "\n",
    "Você trabalha em uma empresa do varejo e tem milhares de clientes diferentes.\n",
    "\n",
    "Com o objetivo de aumentar o faturamento e o lucro da sua empresa, a diretoria quer conseguir identificar quem é o cliente ideal para seus produtos, baseado no histórico de compras dos clientes.\n",
    "\n",
    "Para isso, ela fez um trabalho de classificar os clientes com uma nota de 1 a 100. Só que agora, sobrou para você conseguir, a partir dessa nota, descobrir qual o perfil de cliente ideal da empresa.\n",
    "\n",
    "Qual a profissão? Qual a idade? Qual a faixa de renda? E todas as informações que você puder analisar para dizer qual o cliente ideal da empresa.\n",
    "\n",
    "Base de Dados: https://drive.google.com/drive/folders/1T7D0BlWkNuy_MDpUHuBG44kT80EmRYIs?usp=share_link"
   ]
  },
  {
   "cell_type": "code",
   "execution_count": null,
   "id": "acd407d0",
   "metadata": {},
   "outputs": [],
   "source": [
    "import pandas \n",
    "\n",
    "tabela = pandas.read_csv(\"clientes.csv\", encoding=\"latin\", sep=\";\")\n",
    "\n",
    "\n",
    "# Tratando os Dados: \n",
    "\n",
    "# deletando coluna inútil'\n",
    "tabela = tabela.drop(\"Unnamed: 8\", axis=1)\n",
    "\n",
    "\n",
    "# transformando a tabela Salário Anual em numérico\n",
    "tabela[\"Salário Anual (R$)\"] = pd.to_numeric(tabela [\"Salário Anual (R$)\"], errors =\"coerce\") \n",
    "\n",
    "\n",
    "#corrigir informações vazias \n",
    "tabela=tabela.dropna()\n",
    "print(tabela.info())\n",
    "display (tabela)\n",
    "\n",
    "#analise inicial: Entendendo as notas dos \n",
    "display(tabela.describe())\n",
    "\n",
    "import plotly.express as px\n",
    "\n",
    "#criando um grafico relacionando a coluna Origem a nota do cliente\n",
    "grafico=px.histogram(tabela, x =\"Origem\", y=\"Nota (1-100)\", histfunc=\"avg\",text_auto=True)\n",
    "#exibindo o grafico\n",
    "grafico.show()\n",
    "\n",
    "#analise completa -> entendendo como cada característica do cliente impacta em sua nota\n",
    "\n",
    "for coluna in tabela.columns:\n",
    "    grafico=px.histogram(tabela, x =coluna, y=\"Nota (1-100)\", histfunc=\"avg\",text_auto=True, nbins=10)\n",
    "    grafico.show()\n",
    "    \n",
    " \n"
   ]
  },
  {
   "cell_type": "code",
   "execution_count": 50,
   "id": "c0c60366",
   "metadata": {},
   "outputs": [
    {
     "name": "stdout",
     "output_type": "stream",
     "text": [
      "Requirement already satisfied: plotly in c:\\users\\daniel\\anaconda3\\lib\\site-packages (5.9.0)\n",
      "Requirement already satisfied: tenacity>=6.2.0 in c:\\users\\daniel\\anaconda3\\lib\\site-packages (from plotly) (8.0.1)\n"
     ]
    }
   ],
   "source": [
    "# Considerações:\n",
    "# Não há diferença relevante entre as faixas etárias a partir de 15 anos)\n",
    "# Faixa salarial aparentemente não faz grande diferença\n",
    "# Profissões que possuem os melhores clientes: Entretenimento e Artística\n",
    "# Profissão com clientes de menos valor: Construção\n",
    "\n",
    "# Perfil do cliente ideal:\n",
    "# Acima de 15 anos\n",
    "# Trabalha com entretenimento ou arte\n",
    "# Tem entre 10 e 15 anos de experiência\n",
    "# Com famílias não tão grandes (até no máximo 7 pessoas)\n",
    "\n",
    "\n",
    "\n"
   ]
  },
  {
   "cell_type": "code",
   "execution_count": null,
   "id": "dc6ba93b",
   "metadata": {},
   "outputs": [],
   "source": [
    "\n",
    "\n",
    "\n"
   ]
  },
  {
   "cell_type": "code",
   "execution_count": null,
   "id": "1c9ef8da",
   "metadata": {},
   "outputs": [],
   "source": []
  }
 ],
 "metadata": {
  "kernelspec": {
   "display_name": "Python 3 (ipykernel)",
   "language": "python",
   "name": "python3"
  },
  "language_info": {
   "codemirror_mode": {
    "name": "ipython",
    "version": 3
   },
   "file_extension": ".py",
   "mimetype": "text/x-python",
   "name": "python",
   "nbconvert_exporter": "python",
   "pygments_lexer": "ipython3",
   "version": "3.9.13"
  }
 },
 "nbformat": 4,
 "nbformat_minor": 5
}
